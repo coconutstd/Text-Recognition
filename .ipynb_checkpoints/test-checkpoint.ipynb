{
 "cells": [
  {
   "cell_type": "code",
   "execution_count": 1,
   "metadata": {
    "scrolled": true
   },
   "outputs": [
    {
     "name": "stdout",
     "output_type": "stream",
     "text": [
      "image_process\n",
      "ocr_process\n",
      "regex_process\n"
     ]
    }
   ],
   "source": [
    "import cv2\n",
    "import re\n",
    "import image_process\n",
    "import ocr_process as ocr\n",
    "import regex_process\n",
    "import knnTest\n",
    "\n",
    "#Image Processing Order : MorpGradient -> Bgr2Gray -> AdpaptiveThreshold -> MorpClosing -> Find Contours\n",
    "# 1 : gradient_image\n",
    "# 2 : gray_image\n",
    "# 3 : binary_image\n",
    "# 4 : close_image\n",
    "# 5 : draw_image\n",
    "#image_process.show('a',obj)\n",
    "\n",
    "if __name__=='__main__':\n",
    "\n",
    "    front_image = cv2.imread('Images/SIGMA_front_crop.jpg')\n",
    "    #ImageProcessing의 초기화 매개변수 \n",
    "    #(image_file, adaptive_block_size, adaptive_minus, gradient_size_tuple, closing_size_tuple, resizing_ratio)\n",
    "    process1 = image_process.ImageProcessing(front_image,3,6,(2,2),(3,2),1.5)\n",
    "    img_list = process1.get_image_list()\n",
    "    #text_recognition 옵션 1이 기본 image_list 읽기\n",
    "    #옵션 0은 폴더를 읽어들임\n",
    "    text = []\n",
    "    ocr_text1 = ocr.text_recognition(img_list,text)\n",
    "    \n",
    "    back_image = cv2.imread('Images/SIGMA_back_crop.jpg')\n",
    "    process2 = image_process.ImageProcessing(back_image,3,10,(2,2),(3,2),1.5)\n",
    "    img_list2 = process2.get_image_list()\n",
    "    ocr_text2 = ocr.text_recognition(img_list2,ocr_text1)\n",
    "    \n",
    "    #regex = regex_process.RegexProcessing(ocr_text2)\n",
    "    #print(ocr_text2)\n",
    "    #print(regex.info)\n",
    "    #knnTest.searchFromDB(c.info['product_code'],c.info['product_name'],c.info['cas_number'])\n",
    "    "
   ]
  }
 ],
 "metadata": {
  "kernelspec": {
   "display_name": "Python 3",
   "language": "python",
   "name": "python3"
  },
  "language_info": {
   "codemirror_mode": {
    "name": "ipython",
    "version": 3
   },
   "file_extension": ".py",
   "mimetype": "text/x-python",
   "name": "python",
   "nbconvert_exporter": "python",
   "pygments_lexer": "ipython3",
   "version": "3.6.7"
  }
 },
 "nbformat": 4,
 "nbformat_minor": 2
}
