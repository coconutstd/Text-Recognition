{
 "cells": [
  {
   "cell_type": "code",
   "execution_count": 3,
   "metadata": {},
   "outputs": [
    {
     "name": "stdout",
     "output_type": "stream",
     "text": [
      "Dimethylformamide\n"
     ]
    }
   ],
   "source": [
    "import re\n",
    "\n",
    "text = '227056-1L Lot # STBGO439V\\nN,N-Dimethylformamide\\nanhydrous, 99.8% MM\\n\\ns N N:\\nNN-Dimetylotormamid j\\nDVF, NSC sa5e'\n",
    "\n",
    "#regular_product_code = re.compile('(?P<pcode>\\d{4,7})-\\d{1,3}[A-Z]{1,3}')\n",
    "regular_product_name = re.compile('([A-Z]{1,2}[,.-][A-Z]{1,2}[,.-])[A-Z][a-z]{3,}')\n",
    "#regular_cas_number = re.compile('(\\d+)[.:-](\\d+)[.:-]?\\d?')\n",
    "\n",
    "#m = regular_product_code.search(text)\n",
    "m = regular_product_name.search(text)\n",
    "#m = regular_cas_number.search(text)\n",
    "print(m.group())"
   ]
  }
 ],
 "metadata": {
  "kernelspec": {
   "display_name": "Python 3",
   "language": "python",
   "name": "python3"
  },
  "language_info": {
   "codemirror_mode": {
    "name": "ipython",
    "version": 3
   },
   "file_extension": ".py",
   "mimetype": "text/x-python",
   "name": "python",
   "nbconvert_exporter": "python",
   "pygments_lexer": "ipython3",
   "version": "3.6.7"
  }
 },
 "nbformat": 4,
 "nbformat_minor": 2
}
