{
 "cells": [
  {
   "cell_type": "code",
   "execution_count": 1,
   "metadata": {},
   "outputs": [
    {
     "name": "stdout",
     "output_type": "stream",
     "text": [
      "image_process\n",
      "ocr_process\n",
      "regex_process\n",
      "{'corp_name': 'DAEJUNG', 'product_name': 'Hydrochloric', 'product_code': '4090-4405', 'cas_number': '7647-010'}\n"
     ]
    }
   ],
   "source": [
    "import cv2\n",
    "import image_process\n",
    "import ocr_process\n",
    "import regex_process\n",
    "\n",
    "if __name__=='__main__':\n",
    "    image = cv2.imread('Images/DAEJUNG_crop.jpg')\n",
    "    a = image_process.ImageProcessing(image)\n",
    "    b = ocr_process.OcrProcessing()\n",
    "    text = b.processing()\n",
    "    c = regex_process.RegexProcessing(text)\n",
    "    #딕셔너리 형태의 info 프로퍼티에 시약정보가 저장되있음\n",
    "    print(c.info)\n",
    "    "
   ]
  },
  {
   "cell_type": "code",
   "execution_count": null,
   "metadata": {},
   "outputs": [],
   "source": []
  }
 ],
 "metadata": {
  "kernelspec": {
   "display_name": "Python 3",
   "language": "python",
   "name": "python3"
  },
  "language_info": {
   "codemirror_mode": {
    "name": "ipython",
    "version": 3
   },
   "file_extension": ".py",
   "mimetype": "text/x-python",
   "name": "python",
   "nbconvert_exporter": "python",
   "pygments_lexer": "ipython3",
   "version": "3.6.7"
  }
 },
 "nbformat": 4,
 "nbformat_minor": 2
}
